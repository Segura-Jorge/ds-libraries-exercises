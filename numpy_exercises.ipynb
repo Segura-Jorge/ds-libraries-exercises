{
 "cells": [
  {
   "cell_type": "code",
   "execution_count": 42,
   "id": "84869549",
   "metadata": {},
   "outputs": [],
   "source": [
    "import numpy as np"
   ]
  },
  {
   "cell_type": "markdown",
   "id": "b416ac98",
   "metadata": {},
   "source": [
    "# Use the following code for the questions below:"
   ]
  },
  {
   "cell_type": "code",
   "execution_count": 43,
   "id": "934a82c3",
   "metadata": {},
   "outputs": [
    {
     "data": {
      "text/plain": [
       "array([ 4, 10, 12, 23, -2, -1,  0,  0,  0, -6,  3, -7])"
      ]
     },
     "execution_count": 43,
     "metadata": {},
     "output_type": "execute_result"
    }
   ],
   "source": [
    "a = np.array([4, 10, 12, 23, -2, -1, 0, 0, 0, -6, 3, -7])\n",
    "a"
   ]
  },
  {
   "cell_type": "markdown",
   "id": "c6c6fd1e",
   "metadata": {},
   "source": [
    "## 1. How many negative numbers are there?\n",
    "\n"
   ]
  },
  {
   "cell_type": "code",
   "execution_count": 44,
   "id": "6b706696",
   "metadata": {},
   "outputs": [
    {
     "data": {
      "text/plain": [
       "4"
      ]
     },
     "execution_count": 44,
     "metadata": {},
     "output_type": "execute_result"
    }
   ],
   "source": [
    "a_negative = a < 0\n",
    "\n",
    "count_negative_in_a = a_negative.sum()\n",
    "count_negative_in_a"
   ]
  },
  {
   "cell_type": "markdown",
   "id": "3eb59012",
   "metadata": {},
   "source": [
    "## 2. How many positive numbers are there?\n",
    "\n"
   ]
  },
  {
   "cell_type": "code",
   "execution_count": 45,
   "id": "cc24a268",
   "metadata": {},
   "outputs": [
    {
     "data": {
      "text/plain": [
       "5"
      ]
     },
     "execution_count": 45,
     "metadata": {},
     "output_type": "execute_result"
    }
   ],
   "source": [
    "a_positive = a > 0\n",
    "\n",
    "count_positive_in_a = a_positive.sum()\n",
    "count_positive_in_a"
   ]
  },
  {
   "cell_type": "markdown",
   "id": "b17e0b16",
   "metadata": {},
   "source": [
    "## 3. How many even positive numbers are there?\n",
    "\n"
   ]
  },
  {
   "cell_type": "code",
   "execution_count": 46,
   "id": "39785105",
   "metadata": {},
   "outputs": [
    {
     "data": {
      "text/plain": [
       "3"
      ]
     },
     "execution_count": 46,
     "metadata": {},
     "output_type": "execute_result"
    }
   ],
   "source": [
    "even_positive_in_a = a[a_positive] % 2 == 0\n",
    "count_even_positive_in_a = even_positive_in_a.sum()\n",
    "count_even_positive_in_a"
   ]
  },
  {
   "cell_type": "markdown",
   "id": "30596435",
   "metadata": {},
   "source": [
    "## 4. If you were to add 3 to each data point, how many positive numbers would there be?\n",
    "\n"
   ]
  },
  {
   "cell_type": "code",
   "execution_count": 47,
   "id": "ab46d1df",
   "metadata": {},
   "outputs": [
    {
     "data": {
      "text/plain": [
       "10"
      ]
     },
     "execution_count": 47,
     "metadata": {},
     "output_type": "execute_result"
    }
   ],
   "source": [
    "a_add_3_positive = (a + 3) > 0\n",
    "\n",
    "count_add_3_positive = a_add_3_positive.sum()\n",
    "count_add_3_positive"
   ]
  },
  {
   "cell_type": "markdown",
   "id": "98bb9748",
   "metadata": {},
   "source": [
    "## 5. If you squared each number, what would the new mean and standard deviation be?\n",
    "\n"
   ]
  },
  {
   "cell_type": "code",
   "execution_count": 48,
   "id": "5480533c",
   "metadata": {},
   "outputs": [
    {
     "name": "stdout",
     "output_type": "stream",
     "text": [
      "The mean of a^2 is 74.0\n",
      "The standard deviation of a^2 is 144.0243035046516\n"
     ]
    }
   ],
   "source": [
    "a_squared = a ** 2\n",
    "\n",
    "print(f\"The mean of a^2 is {a_squared.mean()}\") # 74.0\n",
    "print(f\"The standard deviation of a^2 is {a_squared.std()}\") # 144.0243035046516"
   ]
  },
  {
   "cell_type": "markdown",
   "id": "c1e3bdc4",
   "metadata": {},
   "source": [
    "## 6. A common statistical operation on a dataset is centering. This means to adjust the data such that the mean of the data is 0. This is done by subtracting the mean from each data point. Center the data set. See this link for more on centering.\n"
   ]
  },
  {
   "cell_type": "code",
   "execution_count": 49,
   "id": "bf65d3e9",
   "metadata": {},
   "outputs": [
    {
     "name": "stdout",
     "output_type": "stream",
     "text": [
      "'a' centered is [  1.   7.   9.  20.  -5.  -4.  -3.  -3.  -3.  -9.   0. -10.]\n"
     ]
    }
   ],
   "source": [
    "a_centered = a - a.mean()\n",
    "print(f\"'a' centered is {a_centered}\")\n"
   ]
  },
  {
   "cell_type": "markdown",
   "id": "c992b423",
   "metadata": {},
   "source": [
    "## 7. Calculate the z-score for each data point. Recall that the z-score is given by:\n",
    "#              Z = ((x-μ)/σ)\n",
    "\n"
   ]
  },
  {
   "cell_type": "code",
   "execution_count": 10,
   "id": "4e09790a",
   "metadata": {},
   "outputs": [
    {
     "name": "stdout",
     "output_type": "stream",
     "text": [
      "The z score of each data point is [ 0.12403473  0.86824314  1.11631261  2.48069469 -0.62017367 -0.49613894\n",
      " -0.3721042  -0.3721042  -0.3721042  -1.11631261  0.         -1.24034735]\n",
      "Check z score accuracy: mean should be 0: 3.700743415417188e-17 and std should be 1: 1.0\n"
     ]
    }
   ],
   "source": [
    "z_score = (a - a.mean()) / a.std()\n",
    "\n",
    "print(f\"The z score of each data point is {z_score}\")\n",
    "print(f\"Check z score accuracy: mean should be 0: {z_score.mean()} and std should be 1: {z_score.std()}\")"
   ]
  },
  {
   "cell_type": "markdown",
   "id": "c3ad49a2",
   "metadata": {},
   "source": [
    "## 8. Copy the setup and exercise directions from More Numpy Practice into your numpy_exercises.py and add your solutions.\n"
   ]
  },
  {
   "cell_type": "code",
   "execution_count": 50,
   "id": "d43f0a0d",
   "metadata": {},
   "outputs": [
    {
     "name": "stdout",
     "output_type": "stream",
     "text": [
      "Exercise 1 Answer: sum_of_a = 55\n",
      "Exercise 2 Answer: min_of_a = 1\n",
      "Exercise 3 Answer: max_of_a = 10\n",
      "Exercise 4 Answer: mean_of_a = 5.5\n",
      "Exercise 5 Answer: product_of_a = 3628800\n",
      "Exercise 6 Answer: squares_of_a = [  1   4   9  16  25  36  49  64  81 100]\n",
      "Exercise 7 Answer: odds_in_a = [1, 3, 5, 7, 9]\n",
      "Exercise 8 Answer: evens_in_a = [2, 4, 6, 8, 10]\n"
     ]
    }
   ],
   "source": [
    "import numpy as np\n",
    "# Life w/o numpy to life with numpy\n",
    "\n",
    "## Setup 1\n",
    "a = [1, 2, 3, 4, 5, 6, 7, 8, 9, 10]\n",
    "\n",
    "# Use python's built in functionality/operators to determine the following:\n",
    "# Exercise 1 - Make a variable called sum_of_a to hold the sum of all the numbers in above list\n",
    "sum_of_a = np.sum(a)\n",
    "print(f'Exercise 1 Answer: sum_of_a = {sum_of_a}')\n",
    "# Exercise 2 - Make a variable named min_of_a to hold the minimum of all the numbers in the above list\n",
    "min_of_a = np.min(a)\n",
    "print(f'Exercise 2 Answer: min_of_a = {min_of_a}')\n",
    "# Exercise 3 - Make a variable named max_of_a to hold the max number of all the numbers in the above list\n",
    "max_of_a = np.max(a)\n",
    "print(f'Exercise 3 Answer: max_of_a = {max_of_a}')\n",
    "# Exercise 4 - Make a variable named mean_of_a to hold the average of all the numbers in the above list\n",
    "mean_of_a = np.mean(a)\n",
    "print(f'Exercise 4 Answer: mean_of_a = {mean_of_a}')\n",
    "# Exercise 5 - Make a variable named product_of_a to hold the product of multiplying all the numbers in \n",
    "# the above list together\n",
    "product_of_a = np.prod(a)\n",
    "print(f'Exercise 5 Answer: product_of_a = {product_of_a}')\n",
    "# Exercise 6 - Make a variable named squares_of_a. It should hold each number in a squared like [1, 4, 9, 16, 25...]\n",
    "squares_of_a = np.square(a)\n",
    "print(f'Exercise 6 Answer: squares_of_a = {squares_of_a}')\n",
    "# Exercise 7 - Make a variable named odds_in_a. It should hold only the odd numbers\n",
    "odds_in_a = []\n",
    "for num in a:\n",
    "    if num % 2 != 0:\n",
    "        odds_in_a.append(num)\n",
    "count_odds_in_a = len(odds_in_a)\n",
    "print(f'Exercise 7 Answer: odds_in_a = {odds_in_a}')\n",
    "# Exercise 8 - Make a variable named evens_in_a. It should hold only the evens.\n",
    "evens_in_a = []\n",
    "for num in a:\n",
    "    if num % 2 == 0:\n",
    "        evens_in_a.append(num)\n",
    "count_evens_in_a = len(evens_in_a)\n",
    "\n",
    "print(f'Exercise 8 Answer: evens_in_a = {evens_in_a}')"
   ]
  },
  {
   "cell_type": "code",
   "execution_count": 3,
   "id": "da311897",
   "metadata": {},
   "outputs": [
    {
     "data": {
      "text/plain": [
       "array([[3, 4, 5],\n",
       "       [6, 7, 8]])"
      ]
     },
     "execution_count": 3,
     "metadata": {},
     "output_type": "execute_result"
    }
   ],
   "source": []
  },
  {
   "cell_type": "code",
   "execution_count": 62,
   "id": "177346d8",
   "metadata": {},
   "outputs": [
    {
     "name": "stdout",
     "output_type": "stream",
     "text": [
      "Exercise 1:\n",
      "33\n",
      "Exercise 2:\n",
      "3\n",
      "Exercise 3:\n",
      "8\n",
      "Exercise 4:\n",
      "5.5\n",
      "Exercise 5:\n",
      "20160\n",
      "Exercise 6:\n",
      "[  1   4   9  16  25  36  49  64  81 100]\n",
      "Exercise 7:\n",
      "[3 5 7]\n",
      "Exercise 8:\n",
      "[4 6 8]\n",
      "Exercise 9:\n",
      "(2, 3)\n",
      "Exercise 10:\n",
      "[[3 6]\n",
      " [4 7]\n",
      " [5 8]]\n",
      "Exercise 11:\n",
      "[[3 4 5 6 7 8]]\n",
      "Exercise 12:\n",
      "[[3]\n",
      " [4]\n",
      " [5]\n",
      " [6]\n",
      " [7]\n",
      " [8]]\n"
     ]
    }
   ],
   "source": [
    "## What about life in two dimensions? A list of lists is matrix, a table, a spreadsheet, a chessboard...\n",
    "## Setup 2: Consider what it would take to find the sum, min, max, average, sum, product, and list of squares for this list of two lists.\n",
    "b = [\n",
    "    [3, 4, 5],\n",
    "    [6, 7, 8]\n",
    "]\n",
    "\n",
    "b_array = np.array(b)\n",
    "b_array\n",
    "# Exercise 1 - refactor the following to use numpy. Use sum_of_b as the variable. **Hint, you'll first need to make sure that the \"b\" variable is a numpy array**\n",
    "sum_of_b = 0\n",
    "for row in b:\n",
    "    sum_of_b += sum(row)\n",
    "sum_of_b_array = b_array.sum()\n",
    "print(f'Exercise 1:\\n{sum_of_b_array}')\n",
    "# sum_of_b = b.sum()\n",
    "# sum_of_b\n",
    "# Exercise 2 - refactor the following to use numpy. \n",
    "min_of_b = min(b[0]) if min(b[0]) <= min(b[1]) else min(b[1])  \n",
    "min_of_b_array = b_array.min()\n",
    "print(f'Exercise 2:\\n{min_of_b_array}')\n",
    "# Exercise 3 - refactor the following maximum calculation to find the answer with numpy.\n",
    "max_of_b = max(b[0]) if max(b[0]) >= max(b[1]) else max(b[1])\n",
    "max_of_b_array = b_array.max()\n",
    "print(f'Exercise 3:\\n{max_of_b_array}')\n",
    "# Exercise 4 - refactor the following using numpy to find the mean of b\n",
    "mean_of_b = (sum(b[0]) + sum(b[1])) / (len(b[0]) + len(b[1]))\n",
    "mean_of_b_array = b_array.mean()\n",
    "print(f'Exercise 4:\\n{mean_of_b_array}')\n",
    "# Exercise 5 - refactor the following to use numpy for calculating the product of all numbers multiplied together.\n",
    "product_of_b = 1\n",
    "for row in b:\n",
    "    for number in row:\n",
    "        product_of_b *= number\n",
    "product_of_b_array = b_array.prod()\n",
    "print(f'Exercise 5:\\n{product_of_b_array}')\n",
    "# Exercise 6 - refactor the following to use numpy to find the list of squares \n",
    "squares_of_b = []\n",
    "for row in b:\n",
    "    for number in row:\n",
    "        squares_of_b.append(number**2)\n",
    "squares_of_b_array = np.square(a)\n",
    "print(f'Exercise 6:\\n{squares_of_b_array}')\n",
    "# Exercise 7 - refactor using numpy to determine the odds_in_b\n",
    "odds_in_b = []\n",
    "for row in b:\n",
    "    for number in row:\n",
    "        if(number % 2 != 0):\n",
    "            odds_in_b.append(number)\n",
    "odds_in_b_array = b_array[b_array % 2 == 1]\n",
    "print(f'Exercise 7:\\n{odds_in_b_array}')\n",
    "# Exercise 8 - refactor the following to use numpy to filter only the even numbers\n",
    "evens_in_b = []\n",
    "for row in b:\n",
    "    for number in row:\n",
    "        if(number % 2 == 0):\n",
    "            evens_in_b.append(number)\n",
    "evens_in_b_array = b_array[b_array % 2 == 0]\n",
    "print(f'Exercise 8:\\n{evens_in_b_array}')\n",
    "# Exercise 9 - print out the shape of the array b.\n",
    "print(f'Exercise 9:\\n{np.shape(b_array)}')\n",
    "# Exercise 10 - transpose the array b.\n",
    "trans_b_array = b_array.transpose()\n",
    "print(f'Exercise 10:\\n{trans_b_array}')\n",
    "# Exercise 11 - reshape the array b to be a single list of 6 numbers. (1 x 6)\n",
    "reshape_b_array_1x6 = b_array.reshape((1,6))\n",
    "print(f'Exercise 11:\\n{reshape_b_array_1x6}')\n",
    "# Exercise 12 - reshape the array b to be a list of 6 lists, each containing only 1 number (6 x 1)\n",
    "reshape_b_array_6x1 = b_array.reshape((6,1))\n",
    "print(f'Exercise 12:\\n{reshape_b_array_6x1}')"
   ]
  },
  {
   "cell_type": "code",
   "execution_count": 74,
   "id": "22a00af7",
   "metadata": {},
   "outputs": [
    {
     "name": "stdout",
     "output_type": "stream",
     "text": [
      "Exercise 1:\n",
      "min = 1\n",
      "max = 9\n",
      "sum = 45\n",
      "product = 362880\n",
      "Exercise 2:\n",
      "StdDv = 2.581988897471611\n",
      "Exercise 3:\n",
      "variance = 6.666666666666667\n",
      "Exercise 4:\n",
      "shape = (3, 3)\n",
      "Exercise 5: transpose =\n",
      " [[1 4 7]\n",
      " [2 5 8]\n",
      " [3 6 9]]\n",
      "Exercise 6: dot product =\n",
      " [[ 30  36  42]\n",
      " [ 66  81  96]\n",
      " [102 126 150]]\n",
      "Exercise 7: 261\n",
      "Exercise 8: 131681894400\n"
     ]
    }
   ],
   "source": [
    "## Setup 3\n",
    "c = [\n",
    "    [1, 2, 3],\n",
    "    [4, 5, 6],\n",
    "    [7, 8, 9]\n",
    "]\n",
    "c_array = np.array(c)\n",
    "c = c_array \n",
    "# HINT, you'll first need to make sure that the \"c\" variable is a numpy array prior to using numpy array methods.\n",
    "# Exercise 1 - Find the min, max, sum, and product of c.\n",
    "min_c = c.min()\n",
    "print(f'Exercise 1:\\nmin = {min_c}')\n",
    "\n",
    "max_c = c.max()\n",
    "print(f'max = {max_c}')\n",
    "\n",
    "sum_c = c.sum()\n",
    "print(f'sum = {sum_c}')\n",
    "\n",
    "product_c = c.prod()\n",
    "print(f'product = {product_c}')\n",
    "\n",
    "# Exercise 2 - Determine the standard deviation of c.\n",
    "std_c = c.std()\n",
    "print(f'Exercise 2:\\nStdDv = {std_c}')\n",
    "# Exercise 3 - Determine the variance of c.\n",
    "var_c = c.var()\n",
    "print(f'Exercise 3:\\nvariance = {var_c}')\n",
    "# Exercise 4 - Print out the shape of the array c\n",
    "print(f'Exercise 4:\\nshape = {np.shape(c)}')\n",
    "# Exercise 5 - Transpose c and print out transposed result.\n",
    "trans_c = c.transpose() # c.T also works\n",
    "print(f'Exercise 5: transpose =\\n {trans_c}')\n",
    "# Exercise 6 - Get the dot product of the array c with c. \n",
    "dot_prod_c = c.dot(c)\n",
    "print(f'Exercise 6: dot product =\\n {dot_prod_c}')\n",
    "# Exercise 7 - Write the code necessary to sum up the result of c times c transposed. Answer should be 261\n",
    "sum_of_c_times_trans_c = (c * trans_c).sum()\n",
    "#print(f'Exercise 7: c=\\n {c}\\ntrans_c: \\n {trans_c}')\n",
    "#print(f'{c * trans_c}')\n",
    "print(f'Exercise 7: {sum_of_c_times_trans_c}')\n",
    "# Exercise 8 - Write the code necessary to determine the product of c times c transposed. Answer should be 131681894400.\n",
    "prod_of_c_times_trans_c = (c * trans_c).prod()\n",
    "print(f'Exercise 8: {prod_of_c_times_trans_c}')"
   ]
  },
  {
   "cell_type": "code",
   "execution_count": 83,
   "id": "ec92222f",
   "metadata": {},
   "outputs": [
    {
     "name": "stdout",
     "output_type": "stream",
     "text": [
      "Exercise 1 (sine):\n",
      "[[ 0.89399666 -0.98803162  0.85090352  0.          0.58061118 -0.80115264]\n",
      " [ 0.85090352 -0.89399666  0.98803162 -0.17604595  0.89399666  0.        ]\n",
      " [-0.30481062  0.85090352 -0.85090352  0.89399666 -0.85090352 -0.80115264]]\n",
      "Exercise 2 (cosine):\n",
      "[[-0.44807362  0.15425145  0.52532199  1.          0.81418097 -0.59846007]\n",
      " [ 0.52532199 -0.44807362  0.15425145  0.98438195 -0.44807362  1.        ]\n",
      " [-0.95241298  0.52532199  0.52532199 -0.44807362  0.52532199 -0.59846007]]\n",
      "Exercise 3 (tangent):\n",
      "[[-1.99520041 -6.4053312   1.61977519  0.          0.71312301  1.33869021]\n",
      " [ 1.61977519  1.99520041  6.4053312  -0.17883906 -1.99520041  0.        ]\n",
      " [ 0.32004039  1.61977519 -1.61977519 -1.99520041 -1.61977519  1.33869021]]\n",
      "Exercise 4 (negative numbers):\n",
      "[-90 -30 -45 -45]\n",
      "Exercise 5 (positive numbers):\n",
      "[ 90  30  45 120 180  45 270  90  60  45  90 180]\n",
      "Exercise 6 (np.unique(d)):\n",
      "[-90 -45 -30   0  30  45  60  90 120 180 270]\n",
      "Exercise 7 (unique numbers):\n",
      "11\n",
      "Exercise 8 (shape):\n",
      "(3, 6)\n",
      "Exercise 9 (Transpose):\n",
      "[[ 90  45  60]\n",
      " [ 30 -90  45]\n",
      " [ 45 -30 -45]\n",
      " [  0 270  90]\n",
      " [120  90 -45]\n",
      " [180   0 180]]\n",
      "shape of d: (6, 3)\n",
      "Exercise 10 (Reshape):\n",
      "[[ 90  30]\n",
      " [ 45   0]\n",
      " [120 180]\n",
      " [ 45 -90]\n",
      " [-30 270]\n",
      " [ 90   0]\n",
      " [ 60  45]\n",
      " [-45  90]\n",
      " [-45 180]]\n"
     ]
    }
   ],
   "source": [
    "## Setup 4\n",
    "d = [\n",
    "    [90, 30, 45, 0, 120, 180],\n",
    "    [45, -90, -30, 270, 90, 0],\n",
    "    [60, 45, -45, 90, -45, 180]\n",
    "]\n",
    "\n",
    "d = np.array(d)\n",
    "# Exercise 1 - Find the sine of all the numbers in d\n",
    "sine_d = np.sin(d)\n",
    "print(f'Exercise 1 (sine):\\n{sine_d}')\n",
    "\n",
    "# Exercise 2 - Find the cosine of all the numbers in d\n",
    "cos_d = np.cos(d)\n",
    "print(f'Exercise 2 (cosine):\\n{cos_d}')\n",
    "\n",
    "# Exercise 3 - Find the tangent of all the numbers in d\n",
    "tan_d = np.tan(d)\n",
    "print(f'Exercise 3 (tangent):\\n{tan_d}')\n",
    "\n",
    "# Exercise 4 - Find all the negative numbers in d\n",
    "all_negs_d = d[(d < 0)]\n",
    "print(f'Exercise 4 (negative numbers):\\n{all_negs_d}')\n",
    "\n",
    "# Exercise 5 - Find all the positive numbers in d\n",
    "all_pos_d = d[(d > 0)]\n",
    "print(f'Exercise 5 (positive numbers):\\n{all_pos_d}')\n",
    "\n",
    "# Exercise 6 - Return an array of only the unique numbers in d.\n",
    "unique_val_d = np.unique(d)\n",
    "print(f'Exercise 6 (np.unique(d)):\\n{unique_val_d}')\n",
    "\n",
    "# Exercise 7 - Determine how many unique numbers there are in d.\n",
    "num_unique_d = unique_val_d.size\n",
    "print(f'Exercise 7 (unique numbers):\\n{num_unique_d}')\n",
    "\n",
    "# Exercise 8 - Print out the shape of d.\n",
    "print(f'Exercise 8 (shape):\\n{d.shape}')\n",
    "\n",
    "# Exercise 9 - Transpose and then print out the shape of d.\n",
    "print(f'Exercise 9 (Transpose):\\n{d.T}')\n",
    "print(f'shape of d: {d.T.shape}')\n",
    "# Exercise 10 - Reshape d into an array of 9 x 2\n",
    "d_9x2 = d.reshape((9,2))\n",
    "print(f'Exercise 10 (Reshape):\\n{d_9x2}')"
   ]
  },
  {
   "cell_type": "code",
   "execution_count": null,
   "id": "438e2103",
   "metadata": {},
   "outputs": [],
   "source": []
  }
 ],
 "metadata": {
  "kernelspec": {
   "display_name": "Python 3 (ipykernel)",
   "language": "python",
   "name": "python3"
  },
  "language_info": {
   "codemirror_mode": {
    "name": "ipython",
    "version": 3
   },
   "file_extension": ".py",
   "mimetype": "text/x-python",
   "name": "python",
   "nbconvert_exporter": "python",
   "pygments_lexer": "ipython3",
   "version": "3.11.4"
  }
 },
 "nbformat": 4,
 "nbformat_minor": 5
}
