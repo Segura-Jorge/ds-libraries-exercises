{
 "cells": [
  {
   "cell_type": "markdown",
   "id": "b416ac98",
   "metadata": {},
   "source": [
    "# Use the following code for the questions below:"
   ]
  },
  {
   "cell_type": "code",
   "execution_count": 12,
   "id": "934a82c3",
   "metadata": {},
   "outputs": [
    {
     "data": {
      "text/plain": [
       "array([ 4, 10, 12, 23, -2, -1,  0,  0,  0, -6,  3, -7])"
      ]
     },
     "execution_count": 12,
     "metadata": {},
     "output_type": "execute_result"
    }
   ],
   "source": [
    "a = np.array([4, 10, 12, 23, -2, -1, 0, 0, 0, -6, 3, -7])\n",
    "a"
   ]
  },
  {
   "cell_type": "markdown",
   "id": "c6c6fd1e",
   "metadata": {},
   "source": [
    "## 1. How many negative numbers are there?\n",
    "\n"
   ]
  },
  {
   "cell_type": "code",
   "execution_count": 18,
   "id": "6b706696",
   "metadata": {},
   "outputs": [
    {
     "data": {
      "text/plain": [
       "4"
      ]
     },
     "execution_count": 18,
     "metadata": {},
     "output_type": "execute_result"
    }
   ],
   "source": [
    "a_negative = a < 0\n",
    "\n",
    "count_negative_in_a = a_negative.sum()\n",
    "count_negative_in_a"
   ]
  },
  {
   "cell_type": "markdown",
   "id": "3eb59012",
   "metadata": {},
   "source": [
    "## 2. How many positive numbers are there?\n",
    "\n"
   ]
  },
  {
   "cell_type": "code",
   "execution_count": 20,
   "id": "cc24a268",
   "metadata": {},
   "outputs": [
    {
     "data": {
      "text/plain": [
       "5"
      ]
     },
     "execution_count": 20,
     "metadata": {},
     "output_type": "execute_result"
    }
   ],
   "source": [
    "a_positive = a > 0\n",
    "\n",
    "count_positive_in_a = a_positive.sum()\n",
    "count_positive_in_a"
   ]
  },
  {
   "cell_type": "markdown",
   "id": "b17e0b16",
   "metadata": {},
   "source": [
    "## 3. How many even positive numbers are there?\n",
    "\n"
   ]
  },
  {
   "cell_type": "code",
   "execution_count": 33,
   "id": "39785105",
   "metadata": {},
   "outputs": [
    {
     "data": {
      "text/plain": [
       "3"
      ]
     },
     "execution_count": 33,
     "metadata": {},
     "output_type": "execute_result"
    }
   ],
   "source": [
    "even_positive_in_a = a[a_positive] % 2 == 0\n",
    "count_even_positive_in_a = even_positive_in_a.sum()\n",
    "count_even_positive_in_a"
   ]
  },
  {
   "cell_type": "markdown",
   "id": "30596435",
   "metadata": {},
   "source": [
    "## 4. If you were to add 3 to each data point, how many positive numbers would there be?\n",
    "\n"
   ]
  },
  {
   "cell_type": "code",
   "execution_count": 35,
   "id": "ab46d1df",
   "metadata": {},
   "outputs": [
    {
     "data": {
      "text/plain": [
       "10"
      ]
     },
     "execution_count": 35,
     "metadata": {},
     "output_type": "execute_result"
    }
   ],
   "source": [
    "a_add_3_positive = (a + 3) > 0\n",
    "\n",
    "count_add_3_positive = a_add_3_positive.sum()\n",
    "count_add_3_positive"
   ]
  },
  {
   "cell_type": "markdown",
   "id": "98bb9748",
   "metadata": {},
   "source": [
    "## 5. If you squared each number, what would the new mean and standard deviation be?\n",
    "\n"
   ]
  },
  {
   "cell_type": "code",
   "execution_count": 36,
   "id": "5480533c",
   "metadata": {},
   "outputs": [
    {
     "name": "stdout",
     "output_type": "stream",
     "text": [
      "The mean of a^2 is 74.0\n",
      "The standard deviation of a^2 is 144.0243035046516\n"
     ]
    }
   ],
   "source": [
    "a_squared = a ** 2\n",
    "\n",
    "print(f\"The mean of a^2 is {a_squared.mean()}\") # 74.0\n",
    "print(f\"The standard deviation of a^2 is {a_squared.std()}\") # 144.0243035046516"
   ]
  },
  {
   "cell_type": "markdown",
   "id": "c1e3bdc4",
   "metadata": {},
   "source": [
    "## 6. A common statistical operation on a dataset is centering. This means to adjust the data such that the mean of the data is 0. This is done by subtracting the mean from each data point. Center the data set. See this link for more on centering.\n"
   ]
  },
  {
   "cell_type": "code",
   "execution_count": 37,
   "id": "bf65d3e9",
   "metadata": {},
   "outputs": [
    {
     "name": "stdout",
     "output_type": "stream",
     "text": [
      "A centered is [  1.   7.   9.  20.  -5.  -4.  -3.  -3.  -3.  -9.   0. -10.]\n"
     ]
    }
   ],
   "source": [
    "a_centered = a - a.mean()\n",
    "print(f\"A centered is {a_centered}\")\n"
   ]
  },
  {
   "cell_type": "markdown",
   "id": "c992b423",
   "metadata": {},
   "source": [
    "## 7. Calculate the z-score for each data point. Recall that the z-score is given by:\n",
    "#              Z = ((x-μ)/σ)\n",
    "\n"
   ]
  },
  {
   "cell_type": "code",
   "execution_count": 38,
   "id": "4e09790a",
   "metadata": {},
   "outputs": [
    {
     "name": "stdout",
     "output_type": "stream",
     "text": [
      "The z score of each data point is [ 0.12403473  0.86824314  1.11631261  2.48069469 -0.62017367 -0.49613894\n",
      " -0.3721042  -0.3721042  -0.3721042  -1.11631261  0.         -1.24034735]\n",
      "Check z score accuracy: mean should be 0: 3.700743415417188e-17 and std should be 1: 1.0\n"
     ]
    }
   ],
   "source": [
    "z_score = (a - a.mean()) / a.std()\n",
    "\n",
    "print(f\"The z score of each data point is {z_score}\")\n",
    "print(f\"Check z score accuracy: mean should be 0: {z_score.mean()} and std should be 1: {z_score.std()}\")"
   ]
  },
  {
   "cell_type": "markdown",
   "id": "c3ad49a2",
   "metadata": {},
   "source": [
    "## 8. Copy the setup and exercise directions from More Numpy Practice into your numpy_exercises.py and add your solutions.\n"
   ]
  },
  {
   "cell_type": "code",
   "execution_count": 53,
   "id": "d43f0a0d",
   "metadata": {},
   "outputs": [
    {
     "name": "stdout",
     "output_type": "stream",
     "text": [
      "Exercise 1 Answer: 55\n",
      "Exercise 2 Answer: 1\n",
      "Exercise 3 Answer: 10\n",
      "Exercise 4 Answer: 5.5\n",
      "Exercise 5 Answer: []\n",
      "Exercise 6 Answer: [1, 4, 9, 16, 25, 36, 49, 64, 81, 100]\n",
      "Exercise 7 Answer: [1, 3, 5, 7, 9]\n",
      "Exercise 8 Answer: [2, 4, 6, 8, 10]\n"
     ]
    }
   ],
   "source": [
    "import numpy as np\n",
    "# Life w/o numpy to life with numpy\n",
    "\n",
    "## Setup 1\n",
    "a = [1, 2, 3, 4, 5, 6, 7, 8, 9, 10]\n",
    "\n",
    "# Use python's built in functionality/operators to determine the following:\n",
    "# Exercise 1 - Make a variable called sum_of_a to hold the sum of all the numbers in above list\n",
    "sum_of_a = sum(a)\n",
    "print(f'Exercise 1 Answer: {sum_of_a}')\n",
    "# Exercise 2 - Make a variable named min_of_a to hold the minimum of all the numbers in the above list\n",
    "min_of_a = min(a)\n",
    "print(f'Exercise 2 Answer: {min_of_a}')\n",
    "# Exercise 3 - Make a variable named max_of_a to hold the max number of all the numbers in the above list\n",
    "max_of_a = max(a)\n",
    "print(f'Exercise 3 Answer: {max_of_a}')\n",
    "# Exercise 4 - Make a variable named mean_of_a to hold the average of all the numbers in the above list\n",
    "mean_of_a = sum(a)/len(a)\n",
    "print(f'Exercise 4 Answer: {mean_of_a}')\n",
    "# Exercise 5 - Make a variable named product_of_a to hold the product of multiplying all the numbers in \n",
    "# the above list together\n",
    "product_of_a = []\n",
    "print(f'Exercise 5 Answer: {product_of_a}')\n",
    "# Exercise 6 - Make a variable named squares_of_a. It should hold each number in a squared like [1, 4, 9, 16, 25...]\n",
    "squares_of_a = [x ** 2 for x in a]\n",
    "print(f'Exercise 6 Answer: {squares_of_a}')\n",
    "# Exercise 7 - Make a variable named odds_in_a. It should hold only the odd numbers\n",
    "odds_in_a =[x for x in a if x % 2 == 1]\n",
    "print(f'Exercise 7 Answer: {odds_in_a}')\n",
    "# Exercise 8 - Make a variable named evens_in_a. It should hold only the evens.\n",
    "evens_in_a = [x for x in a if x % 2 == 0]\n",
    "print(f'Exercise 8 Answer: {evens_in_a}')"
   ]
  },
  {
   "cell_type": "code",
   "execution_count": 63,
   "id": "f691d692",
   "metadata": {},
   "outputs": [
    {
     "name": "stdout",
     "output_type": "stream",
     "text": [
      "Exercise 1 Answer: sum_of_a = 55\n",
      "Exercise 2 Answer: min_of_a = 1\n",
      "Exercise 3 Answer: max_of_a = 10\n",
      "Exercise 4 Answer: mean_of_a = 5.5\n",
      "Exercise 5 Answer: product_of_a = 3628800\n",
      "Exercise 6 Answer: [  1   4   9  16  25  36  49  64  81 100]\n",
      "Exercise 7 Answer: [1, 3, 5, 7, 9]\n",
      "Exercise 8 Answer: [2, 4, 6, 8, 10]\n"
     ]
    }
   ],
   "source": [
    "import numpy as np\n",
    "# Life w/o numpy to life with numpy\n",
    "\n",
    "## Setup 1\n",
    "a = [1, 2, 3, 4, 5, 6, 7, 8, 9, 10]\n",
    "\n",
    "# Use python's built in functionality/operators to determine the following:\n",
    "# Exercise 1 - Make a variable called sum_of_a to hold the sum of all the numbers in above list\n",
    "sum_of_a = np.sum(a)\n",
    "print(f'Exercise 1 Answer: sum_of_a = {sum_of_a}')\n",
    "# Exercise 2 - Make a variable named min_of_a to hold the minimum of all the numbers in the above list\n",
    "min_of_a = np.min(a)\n",
    "print(f'Exercise 2 Answer: min_of_a = {min_of_a}')\n",
    "# Exercise 3 - Make a variable named max_of_a to hold the max number of all the numbers in the above list\n",
    "max_of_a = np.max(a)\n",
    "print(f'Exercise 3 Answer: max_of_a = {max_of_a}')\n",
    "# Exercise 4 - Make a variable named mean_of_a to hold the average of all the numbers in the above list\n",
    "mean_of_a = np.mean(a)\n",
    "print(f'Exercise 4 Answer: mean_of_a = {mean_of_a}')\n",
    "# Exercise 5 - Make a variable named product_of_a to hold the product of multiplying all the numbers in \n",
    "# the above list together\n",
    "product_of_a = np.prod(a)\n",
    "print(f'Exercise 5 Answer: product_of_a = {product_of_a}')\n",
    "# Exercise 6 - Make a variable named squares_of_a. It should hold each number in a squared like [1, 4, 9, 16, 25...]\n",
    "squares_of_a = np.square(a)\n",
    "print(f'Exercise 6 Answer: {squares_of_a}')\n",
    "# Exercise 7 - Make a variable named odds_in_a. It should hold only the odd numbers\n",
    "\n",
    "odds_in_a = []\n",
    "for num in a:\n",
    "    if num % 2 != 0:\n",
    "        odds_in_a.append(num)\n",
    "count_odds_in_a = len(odds_in_a)\n",
    "print(f'Exercise 7 Answer: {odds_in_a}')\n",
    "# Exercise 8 - Make a variable named evens_in_a. It should hold only the evens.\n",
    "evens_in_a = []\n",
    "for num in a:\n",
    "    if num % 2 == 0:\n",
    "        evens_in_a.append(num)\n",
    "count_evens_in_a = len(evens_in_a)\n",
    "\n",
    "print(f'Exercise 8 Answer: {evens_in_a}')"
   ]
  },
  {
   "cell_type": "code",
   "execution_count": null,
   "id": "da311897",
   "metadata": {},
   "outputs": [],
   "source": [
    "## What about life in two dimensions? A list of lists is matrix, a table, a spreadsheet, a chessboard...\n",
    "## Setup 2: Consider what it would take to find the sum, min, max, average, sum, product, and list of squares for this list of two lists.\n",
    "b = [\n",
    "    [3, 4, 5],\n",
    "    [6, 7, 8]\n",
    "]\n"
   ]
  },
  {
   "cell_type": "code",
   "execution_count": null,
   "id": "177346d8",
   "metadata": {},
   "outputs": [],
   "source": [
    "# Exercise 1 - refactor the following to use numpy. Use sum_of_b as the variable. **Hint, you'll first need to make sure that the \"b\" variable is a numpy array**\n",
    "sum_of_b = 0\n",
    "for row in b:\n",
    "    sum_of_b += sum(row)\n",
    "\n",
    "# Exercise 2 - refactor the following to use numpy. \n",
    "min_of_b = min(b[0]) if min(b[0]) <= min(b[1]) else min(b[1])  \n",
    "\n",
    "# Exercise 3 - refactor the following maximum calculation to find the answer with numpy.\n",
    "max_of_b = max(b[0]) if max(b[0]) >= max(b[1]) else max(b[1])\n",
    "\n",
    "\n",
    "# Exercise 4 - refactor the following using numpy to find the mean of b\n",
    "mean_of_b = (sum(b[0]) + sum(b[1])) / (len(b[0]) + len(b[1]))\n",
    "\n",
    "# Exercise 5 - refactor the following to use numpy for calculating the product of all numbers multiplied together.\n",
    "product_of_b = 1\n",
    "for row in b:\n",
    "    for number in row:\n",
    "        product_of_b *= number\n",
    "\n",
    "# Exercise 6 - refactor the following to use numpy to find the list of squares \n",
    "squares_of_b = []\n",
    "for row in b:\n",
    "    for number in row:\n",
    "        squares_of_b.append(number**2)\n",
    "\n",
    "\n",
    "# Exercise 7 - refactor using numpy to determine the odds_in_b\n",
    "odds_in_b = []\n",
    "for row in b:\n",
    "    for number in row:\n",
    "        if(number % 2 != 0):\n",
    "            odds_in_b.append(number)\n",
    "\n",
    "\n",
    "# Exercise 8 - refactor the following to use numpy to filter only the even numbers\n",
    "evens_in_b = []\n",
    "for row in b:\n",
    "    for number in row:\n",
    "        if(number % 2 == 0):\n",
    "            evens_in_b.append(number)\n",
    "\n",
    "# Exercise 9 - print out the shape of the array b.\n",
    "\n",
    "# Exercise 10 - transpose the array b.\n",
    "\n",
    "# Exercise 11 - reshape the array b to be a single list of 6 numbers. (1 x 6)\n",
    "\n",
    "# Exercise 12 - reshape the array b to be a list of 6 lists, each containing only 1 number (6 x 1)\n"
   ]
  },
  {
   "cell_type": "code",
   "execution_count": null,
   "id": "22a00af7",
   "metadata": {},
   "outputs": [],
   "source": [
    "## Setup 3\n",
    "c = [\n",
    "    [1, 2, 3],\n",
    "    [4, 5, 6],\n",
    "    [7, 8, 9]\n",
    "]\n",
    "\n",
    "# HINT, you'll first need to make sure that the \"c\" variable is a numpy array prior to using numpy array methods.\n",
    "# Exercise 1 - Find the min, max, sum, and product of c.\n",
    "\n",
    "# Exercise 2 - Determine the standard deviation of c.\n",
    "\n",
    "# Exercise 3 - Determine the variance of c.\n",
    "\n",
    "# Exercise 4 - Print out the shape of the array c\n",
    "\n",
    "# Exercise 5 - Transpose c and print out transposed result.\n",
    "\n",
    "# Exercise 6 - Get the dot product of the array c with c. \n",
    "\n",
    "# Exercise 7 - Write the code necessary to sum up the result of c times c transposed. Answer should be 261\n",
    "\n",
    "# Exercise 8 - Write the code necessary to determine the product of c times c transposed. Answer should be 131681894400.\n"
   ]
  },
  {
   "cell_type": "code",
   "execution_count": null,
   "id": "a446fa1d",
   "metadata": {},
   "outputs": [],
   "source": [
    "## Setup 4\n",
    "d = [\n",
    "    [90, 30, 45, 0, 120, 180],\n",
    "    [45, -90, -30, 270, 90, 0],\n",
    "    [60, 45, -45, 90, -45, 180]\n",
    "]\n",
    "\n",
    "# Exercise 1 - Find the sine of all the numbers in d\n",
    "\n",
    "# Exercise 2 - Find the cosine of all the numbers in d\n",
    "\n",
    "# Exercise 3 - Find the tangent of all the numbers in d\n",
    "\n",
    "# Exercise 4 - Find all the negative numbers in d\n",
    "\n",
    "# Exercise 5 - Find all the positive numbers in d\n",
    "\n",
    "# Exercise 6 - Return an array of only the unique numbers in d.\n",
    "\n",
    "# Exercise 7 - Determine how many unique numbers there are in d.\n",
    "\n",
    "# Exercise 8 - Print out the shape of d.\n",
    "\n",
    "# Exercise 9 - Transpose and then print out the shape of d.\n",
    "\n",
    "# Exercise 10 - Reshape d into an array of 9 x 2"
   ]
  }
 ],
 "metadata": {
  "kernelspec": {
   "display_name": "Python 3 (ipykernel)",
   "language": "python",
   "name": "python3"
  },
  "language_info": {
   "codemirror_mode": {
    "name": "ipython",
    "version": 3
   },
   "file_extension": ".py",
   "mimetype": "text/x-python",
   "name": "python",
   "nbconvert_exporter": "python",
   "pygments_lexer": "ipython3",
   "version": "3.11.4"
  }
 },
 "nbformat": 4,
 "nbformat_minor": 5
}
